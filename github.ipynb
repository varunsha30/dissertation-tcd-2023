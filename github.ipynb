{
 "cells": [
  {
   "cell_type": "code",
   "execution_count": 6,
   "metadata": {},
   "outputs": [
    {
     "ename": "ImportError",
     "evalue": "cannot import name 'GitHub' from 'github' (/Users/varunsharma/Downloads/Classes/Thesis/Code/dis/lib/python3.11/site-packages/github/__init__.py)",
     "output_type": "error",
     "traceback": [
      "\u001b[0;31m---------------------------------------------------------------------------\u001b[0m",
      "\u001b[0;31mImportError\u001b[0m                               Traceback (most recent call last)",
      "Cell \u001b[0;32mIn[6], line 1\u001b[0m\n\u001b[0;32m----> 1\u001b[0m \u001b[39mfrom\u001b[39;00m \u001b[39mgithub\u001b[39;00m \u001b[39mimport\u001b[39;00m GitHub, Auth\n\u001b[1;32m      2\u001b[0m \u001b[39mimport\u001b[39;00m \u001b[39mos\u001b[39;00m\n\u001b[1;32m      3\u001b[0m \u001b[39mfrom\u001b[39;00m \u001b[39mdotenv\u001b[39;00m \u001b[39mimport\u001b[39;00m load_dotenv\n",
      "\u001b[0;31mImportError\u001b[0m: cannot import name 'GitHub' from 'github' (/Users/varunsharma/Downloads/Classes/Thesis/Code/dis/lib/python3.11/site-packages/github/__init__.py)"
     ]
    }
   ],
   "source": [
    "from github import GitHub, Auth\n",
    "import os\n",
    "from dotenv import load_dotenv\n",
    "\n",
    "load_dotenv()\n",
    "\n",
    "# using an access token\n",
    "auth = Auth.Token(os.getenv(\"GITHUB_TOKEN\"))\n",
    "# Public Web Github\n",
    "g = GitHub(token=auth.token)"
   ]
  },
  {
   "cell_type": "code",
   "execution_count": 34,
   "metadata": {},
   "outputs": [
    {
     "ename": "AttributeError",
     "evalue": "'GitHub' object has no attribute 'get_user'",
     "output_type": "error",
     "traceback": [
      "\u001b[0;31m---------------------------------------------------------------------------\u001b[0m",
      "\u001b[0;31mAttributeError\u001b[0m                            Traceback (most recent call last)",
      "Cell \u001b[0;32mIn[34], line 1\u001b[0m\n\u001b[0;32m----> 1\u001b[0m repos \u001b[39m=\u001b[39m g\u001b[39m.\u001b[39;49mget_user()\u001b[39m.\u001b[39mget_repos()\n",
      "\u001b[0;31mAttributeError\u001b[0m: 'GitHub' object has no attribute 'get_user'"
     ]
    }
   ],
   "source": [
    "repos = g."
   ]
  },
  {
   "cell_type": "code",
   "execution_count": 6,
   "metadata": {},
   "outputs": [
    {
     "name": "stdout",
     "output_type": "stream",
     "text": [
      "Tour-and-Travel-Project\n",
      "SIH2020_PJ235_BASTET_GitRepository_COEP\n",
      "LMS\n",
      "Tour-and-Travel-Project\n",
      "ML-GRP13\n",
      "TextAnalytics\n",
      "adaptive-app\n",
      "CS7IS3-Assignment-2\n",
      "kde_grp\n",
      "ASE-Group-Project-Group-1\n",
      "dissertation-test\n",
      "everycheese\n",
      "LuceneGroupProject\n",
      "ML-useful-links\n",
      "MyApp_Trial\n",
      "Tour-and-Travel-Project\n",
      "User-Management-System\n"
     ]
    }
   ],
   "source": [
    "for repo in repos:\n",
    "    print(repo.name)"
   ]
  },
  {
   "cell_type": "code",
   "execution_count": 15,
   "metadata": {},
   "outputs": [],
   "source": [
    "# Get a repo\n",
    "repo = g.get_repo(\"varunsha30/dissertation-test\")"
   ]
  },
  {
   "cell_type": "code",
   "execution_count": 23,
   "metadata": {},
   "outputs": [
    {
     "name": "stdout",
     "output_type": "stream",
     "text": [
      "Issue(title=\"Create a new file - file_3.txt\", number=1)\n"
     ]
    }
   ],
   "source": [
    "# Get list of open issues\n",
    "issues = repo.get_issues(state='open')\n",
    "for issue in issues:\n",
    "    print(issue)"
   ]
  },
  {
   "cell_type": "code",
   "execution_count": 24,
   "metadata": {},
   "outputs": [
    {
     "name": "stdout",
     "output_type": "stream",
     "text": [
      "Label(name=\"bug\")\n",
      "Label(name=\"documentation\")\n",
      "Label(name=\"duplicate\")\n",
      "Label(name=\"enhancement\")\n",
      "Label(name=\"good first issue\")\n",
      "Label(name=\"help wanted\")\n",
      "Label(name=\"invalid\")\n",
      "Label(name=\"question\")\n",
      "Label(name=\"wontfix\")\n"
     ]
    }
   ],
   "source": [
    "# Get all labels\n",
    "labels = repo.get_labels()\n",
    "for label in labels:\n",
    "    print (label)"
   ]
  },
  {
   "cell_type": "code",
   "execution_count": 25,
   "metadata": {},
   "outputs": [
    {
     "name": "stdout",
     "output_type": "stream",
     "text": [
      "ContentFile(path=\"README.md\")\n"
     ]
    }
   ],
   "source": [
    "# Get all of the contents of the root directory of the repository\n",
    "contents = repo.get_contents(\"\")\n",
    "for content_file in contents:\n",
    "    print (content_file)"
   ]
  },
  {
   "cell_type": "code",
   "execution_count": 27,
   "metadata": {},
   "outputs": [
    {
     "name": "stdout",
     "output_type": "stream",
     "text": [
      "ContentFile(path=\"README.md\")\n"
     ]
    }
   ],
   "source": [
    "# Get all of the contents of the repository recursively\n",
    "contents = repo.get_contents(\"\")\n",
    "while contents:\n",
    "    file_content = contents.pop(0)\n",
    "    if file_content.type == \"dir\":\n",
    "        contents.extend(repo.get_contents(file_content.path))\n",
    "    else:\n",
    "        print (file_content)"
   ]
  },
  {
   "cell_type": "code",
   "execution_count": 29,
   "metadata": {},
   "outputs": [
    {
     "data": {
      "text/plain": [
       "[Branch(name=\"feature-1\"), Branch(name=\"master\")]"
      ]
     },
     "execution_count": 29,
     "metadata": {},
     "output_type": "execute_result"
    }
   ],
   "source": [
    "# Get branches\n",
    "list(repo.get_branches())"
   ]
  },
  {
   "cell_type": "code",
   "execution_count": 35,
   "metadata": {},
   "outputs": [
    {
     "name": "stdout",
     "output_type": "stream",
     "text": [
      "False\n",
      "Commit(sha=\"317f509efaaa422db5677766c037bcca517eb33b\") sha = 317f509efaaa422db5677766c037bcca517eb33b\n"
     ]
    }
   ],
   "source": [
    "# Get one branch\n",
    "branch = repo.get_branch(\"feature-1\")\n",
    "# Get protection status\n",
    "print(branch.protected)\n",
    "# Get Head commit from a branch\n",
    "print(branch.commit, f\"sha = {branch.commit.sha}\")"
   ]
  },
  {
   "cell_type": "code",
   "execution_count": 38,
   "metadata": {},
   "outputs": [],
   "source": [
    "commits = repo.get_commits(branch.commit.sha)"
   ]
  },
  {
   "cell_type": "code",
   "execution_count": 45,
   "metadata": {},
   "outputs": [],
   "source": [
    "import regex as re"
   ]
  },
  {
   "cell_type": "code",
   "execution_count": 53,
   "metadata": {},
   "outputs": [
    {
     "name": "stdout",
     "output_type": "stream",
     "text": [
      "2023-07-13 19:53:12 Update file_2.txt Varun Sharma varunsha30 44255324+varunsha30@users.noreply.github.com\n",
      "2023-07-13 19:52:29 Create file_2.txt Varun Sharma varunsha30 44255324+varunsha30@users.noreply.github.com\n",
      "2023-07-13 19:51:43 Create file_1.txt Varun Sharma varunsha30 44255324+varunsha30@users.noreply.github.com\n",
      "2023-07-13 19:50:24 Initial commit Varun Sharma varunsha30 44255324+varunsha30@users.noreply.github.com\n"
     ]
    }
   ],
   "source": [
    "for commit in commits:\n",
    "    print(commit.commit.author.date, commit.commit.message, commit.commit.author.name, re.match(r\".*?\\+(.*?)@.*\", commit.commit.author.email).group(1) if re.match(r\".*?\\+(.*?)@.*\", commit.commit.author.email) else None, commit.commit.author.email)"
   ]
  },
  {
   "cell_type": "code",
   "execution_count": null,
   "metadata": {},
   "outputs": [],
   "source": []
  }
 ],
 "metadata": {
  "kernelspec": {
   "display_name": "dis",
   "language": "python",
   "name": "python3"
  },
  "language_info": {
   "codemirror_mode": {
    "name": "ipython",
    "version": 3
   },
   "file_extension": ".py",
   "mimetype": "text/x-python",
   "name": "python",
   "nbconvert_exporter": "python",
   "pygments_lexer": "ipython3",
   "version": "3.11.1"
  },
  "orig_nbformat": 4
 },
 "nbformat": 4,
 "nbformat_minor": 2
}
